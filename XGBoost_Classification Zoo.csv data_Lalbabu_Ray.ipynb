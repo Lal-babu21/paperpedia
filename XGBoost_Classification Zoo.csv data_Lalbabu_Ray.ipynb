{
 "cells": [
  {
   "cell_type": "markdown",
   "metadata": {},
   "source": [
    "XGBoost is a powerful ensemble Machine Learning Algorithm. \n",
    "\n",
    "XGBoost or gradient boosting is used to minimize loss function.\n",
    "\n",
    "It provides fast in memory computing.\n",
    "\n",
    "It is scalable, fast learning algorithm and provides parallel and distributed computing.\n",
    "\n",
    "In XGBoost, we create multiple learners of a data frame and results are aggregated value of all learners.\n",
    "\n"
   ]
  },
  {
   "cell_type": "code",
   "execution_count": null,
   "metadata": {},
   "outputs": [],
   "source": []
  },
  {
   "cell_type": "code",
   "execution_count": null,
   "metadata": {},
   "outputs": [],
   "source": []
  },
  {
   "cell_type": "markdown",
   "metadata": {},
   "source": [
    "Zoo.csv file contains  details of 100 animals.\n",
    "\n",
    "It consists 7 seven type of species. \n",
    "\n",
    "We have to build a Machine Learning classification model to predict the species Class_Type.\n",
    "\n",
    "For this task we will use XGBoost Machine Learning classification Algorithm."
   ]
  },
  {
   "cell_type": "code",
   "execution_count": 1,
   "metadata": {},
   "outputs": [],
   "source": [
    "#import required libraries\n",
    "\n",
    "import pandas as pd  #for reading data and data analysis  \n",
    "import numpy as np\n",
    "import warnings\n",
    "warnings.filterwarnings('ignore')\n",
    "\n",
    "from sklearn.model_selection import train_test_split\n",
    "from xgboost import XGBClassifier, \n",
    "from sklearn.metrics import accuracy_score"
   ]
  },
  {
   "cell_type": "code",
   "execution_count": 2,
   "metadata": {},
   "outputs": [],
   "source": [
    "# Read the dataset\n",
    "zoo_data = pd.read_csv(\"zoo.csv\")"
   ]
  },
  {
   "cell_type": "code",
   "execution_count": 3,
   "metadata": {},
   "outputs": [
    {
     "data": {
      "text/plain": [
       "(100, 19)"
      ]
     },
     "execution_count": 3,
     "metadata": {},
     "output_type": "execute_result"
    }
   ],
   "source": [
    "zoo_data.shape"
   ]
  },
  {
   "cell_type": "markdown",
   "metadata": {},
   "source": [
    "data frame consists 19 columns and 100 records"
   ]
  },
  {
   "cell_type": "code",
   "execution_count": 4,
   "metadata": {
    "scrolled": true
   },
   "outputs": [
    {
     "data": {
      "text/html": [
       "<div>\n",
       "<style scoped>\n",
       "    .dataframe tbody tr th:only-of-type {\n",
       "        vertical-align: middle;\n",
       "    }\n",
       "\n",
       "    .dataframe tbody tr th {\n",
       "        vertical-align: top;\n",
       "    }\n",
       "\n",
       "    .dataframe thead th {\n",
       "        text-align: right;\n",
       "    }\n",
       "</style>\n",
       "<table border=\"1\" class=\"dataframe\">\n",
       "  <thead>\n",
       "    <tr style=\"text-align: right;\">\n",
       "      <th></th>\n",
       "      <th>animal_name</th>\n",
       "      <th>species</th>\n",
       "      <th>class_type</th>\n",
       "      <th>hair</th>\n",
       "      <th>feathers</th>\n",
       "      <th>eggs</th>\n",
       "      <th>milk</th>\n",
       "      <th>airborne</th>\n",
       "      <th>aquatic</th>\n",
       "      <th>predator</th>\n",
       "      <th>toothed</th>\n",
       "      <th>backbone</th>\n",
       "      <th>breathes</th>\n",
       "      <th>venomous</th>\n",
       "      <th>fins</th>\n",
       "      <th>legs</th>\n",
       "      <th>tail</th>\n",
       "      <th>domestic</th>\n",
       "      <th>catsize</th>\n",
       "    </tr>\n",
       "  </thead>\n",
       "  <tbody>\n",
       "    <tr>\n",
       "      <th>0</th>\n",
       "      <td>aardvark</td>\n",
       "      <td>Mammal</td>\n",
       "      <td>1</td>\n",
       "      <td>1</td>\n",
       "      <td>0</td>\n",
       "      <td>0</td>\n",
       "      <td>1</td>\n",
       "      <td>0</td>\n",
       "      <td>0</td>\n",
       "      <td>1</td>\n",
       "      <td>1</td>\n",
       "      <td>1</td>\n",
       "      <td>1</td>\n",
       "      <td>0</td>\n",
       "      <td>0</td>\n",
       "      <td>4</td>\n",
       "      <td>0</td>\n",
       "      <td>0</td>\n",
       "      <td>1</td>\n",
       "    </tr>\n",
       "    <tr>\n",
       "      <th>1</th>\n",
       "      <td>antelope</td>\n",
       "      <td>Mammal</td>\n",
       "      <td>1</td>\n",
       "      <td>1</td>\n",
       "      <td>0</td>\n",
       "      <td>0</td>\n",
       "      <td>1</td>\n",
       "      <td>0</td>\n",
       "      <td>0</td>\n",
       "      <td>0</td>\n",
       "      <td>1</td>\n",
       "      <td>1</td>\n",
       "      <td>1</td>\n",
       "      <td>0</td>\n",
       "      <td>0</td>\n",
       "      <td>4</td>\n",
       "      <td>1</td>\n",
       "      <td>0</td>\n",
       "      <td>1</td>\n",
       "    </tr>\n",
       "    <tr>\n",
       "      <th>2</th>\n",
       "      <td>bass</td>\n",
       "      <td>Fish</td>\n",
       "      <td>4</td>\n",
       "      <td>0</td>\n",
       "      <td>0</td>\n",
       "      <td>1</td>\n",
       "      <td>0</td>\n",
       "      <td>0</td>\n",
       "      <td>1</td>\n",
       "      <td>1</td>\n",
       "      <td>1</td>\n",
       "      <td>1</td>\n",
       "      <td>0</td>\n",
       "      <td>0</td>\n",
       "      <td>1</td>\n",
       "      <td>0</td>\n",
       "      <td>1</td>\n",
       "      <td>0</td>\n",
       "      <td>0</td>\n",
       "    </tr>\n",
       "    <tr>\n",
       "      <th>3</th>\n",
       "      <td>bear</td>\n",
       "      <td>Mammal</td>\n",
       "      <td>1</td>\n",
       "      <td>1</td>\n",
       "      <td>0</td>\n",
       "      <td>0</td>\n",
       "      <td>1</td>\n",
       "      <td>0</td>\n",
       "      <td>0</td>\n",
       "      <td>1</td>\n",
       "      <td>1</td>\n",
       "      <td>1</td>\n",
       "      <td>1</td>\n",
       "      <td>0</td>\n",
       "      <td>0</td>\n",
       "      <td>4</td>\n",
       "      <td>0</td>\n",
       "      <td>0</td>\n",
       "      <td>1</td>\n",
       "    </tr>\n",
       "    <tr>\n",
       "      <th>4</th>\n",
       "      <td>boar</td>\n",
       "      <td>Mammal</td>\n",
       "      <td>1</td>\n",
       "      <td>1</td>\n",
       "      <td>0</td>\n",
       "      <td>0</td>\n",
       "      <td>1</td>\n",
       "      <td>0</td>\n",
       "      <td>0</td>\n",
       "      <td>1</td>\n",
       "      <td>1</td>\n",
       "      <td>1</td>\n",
       "      <td>1</td>\n",
       "      <td>0</td>\n",
       "      <td>0</td>\n",
       "      <td>4</td>\n",
       "      <td>1</td>\n",
       "      <td>0</td>\n",
       "      <td>1</td>\n",
       "    </tr>\n",
       "  </tbody>\n",
       "</table>\n",
       "</div>"
      ],
      "text/plain": [
       "  animal_name species  class_type  hair  feathers  eggs  milk  airborne  \\\n",
       "0    aardvark  Mammal           1     1         0     0     1         0   \n",
       "1    antelope  Mammal           1     1         0     0     1         0   \n",
       "2        bass    Fish           4     0         0     1     0         0   \n",
       "3        bear  Mammal           1     1         0     0     1         0   \n",
       "4        boar  Mammal           1     1         0     0     1         0   \n",
       "\n",
       "   aquatic  predator  toothed  backbone  breathes  venomous  fins  legs  tail  \\\n",
       "0        0         1        1         1         1         0     0     4     0   \n",
       "1        0         0        1         1         1         0     0     4     1   \n",
       "2        1         1        1         1         0         0     1     0     1   \n",
       "3        0         1        1         1         1         0     0     4     0   \n",
       "4        0         1        1         1         1         0     0     4     1   \n",
       "\n",
       "   domestic  catsize  \n",
       "0         0        1  \n",
       "1         0        1  \n",
       "2         0        0  \n",
       "3         0        1  \n",
       "4         0        1  "
      ]
     },
     "execution_count": 4,
     "metadata": {},
     "output_type": "execute_result"
    }
   ],
   "source": [
    "# Get first 5 record\n",
    "zoo_data.head()"
   ]
  },
  {
   "cell_type": "code",
   "execution_count": 5,
   "metadata": {},
   "outputs": [
    {
     "data": {
      "text/plain": [
       "Index(['animal_name', 'species', 'class_type', 'hair', 'feathers', 'eggs',\n",
       "       'milk', 'airborne', 'aquatic', 'predator', 'toothed', 'backbone',\n",
       "       'breathes', 'venomous', 'fins', 'legs', 'tail', 'domestic', 'catsize'],\n",
       "      dtype='object')"
      ]
     },
     "execution_count": 5,
     "metadata": {},
     "output_type": "execute_result"
    }
   ],
   "source": [
    "# Get the list of columns of zoo.csv file\n",
    "\n",
    "zoo_data.columns"
   ]
  },
  {
   "cell_type": "code",
   "execution_count": 6,
   "metadata": {
    "scrolled": true
   },
   "outputs": [
    {
     "data": {
      "text/plain": [
       "animal_name    0\n",
       "species        0\n",
       "class_type     0\n",
       "hair           0\n",
       "feathers       0\n",
       "eggs           0\n",
       "milk           0\n",
       "airborne       0\n",
       "aquatic        0\n",
       "predator       0\n",
       "toothed        0\n",
       "backbone       0\n",
       "breathes       0\n",
       "venomous       0\n",
       "fins           0\n",
       "legs           0\n",
       "tail           0\n",
       "domestic       0\n",
       "catsize        0\n",
       "dtype: int64"
      ]
     },
     "execution_count": 6,
     "metadata": {},
     "output_type": "execute_result"
    }
   ],
   "source": [
    "# check null value\n",
    "zoo_data.isna().sum()"
   ]
  },
  {
   "cell_type": "markdown",
   "metadata": {},
   "source": [
    "isna() method is used to check null values. This data frame is clean and null value is not available"
   ]
  },
  {
   "cell_type": "code",
   "execution_count": 7,
   "metadata": {
    "scrolled": true
   },
   "outputs": [
    {
     "data": {
      "text/plain": [
       "Mammal          0.41\n",
       "Bird            0.19\n",
       "Fish            0.13\n",
       "Invertebrate    0.10\n",
       "Bug             0.08\n",
       "Reptile         0.05\n",
       "Amphibian       0.04\n",
       "Name: species, dtype: float64"
      ]
     },
     "execution_count": 7,
     "metadata": {},
     "output_type": "execute_result"
    }
   ],
   "source": [
    "zoo_data['species'].value_counts(normalize=True)"
   ]
  },
  {
   "cell_type": "markdown",
   "metadata": {},
   "source": [
    "The most species are Mammal(41%) and Amphibian(4%) are lowest."
   ]
  },
  {
   "cell_type": "markdown",
   "metadata": {},
   "source": [
    "There are total 7 classes of animals: Mammal, Bird, Fish, Invertebrate, Bug, Reptile and Amphibin"
   ]
  },
  {
   "cell_type": "code",
   "execution_count": 8,
   "metadata": {},
   "outputs": [
    {
     "name": "stdout",
     "output_type": "stream",
     "text": [
      "<class 'pandas.core.frame.DataFrame'>\n",
      "RangeIndex: 100 entries, 0 to 99\n",
      "Data columns (total 19 columns):\n",
      " #   Column       Non-Null Count  Dtype \n",
      "---  ------       --------------  ----- \n",
      " 0   animal_name  100 non-null    object\n",
      " 1   species      100 non-null    object\n",
      " 2   class_type   100 non-null    int64 \n",
      " 3   hair         100 non-null    int64 \n",
      " 4   feathers     100 non-null    int64 \n",
      " 5   eggs         100 non-null    int64 \n",
      " 6   milk         100 non-null    int64 \n",
      " 7   airborne     100 non-null    int64 \n",
      " 8   aquatic      100 non-null    int64 \n",
      " 9   predator     100 non-null    int64 \n",
      " 10  toothed      100 non-null    int64 \n",
      " 11  backbone     100 non-null    int64 \n",
      " 12  breathes     100 non-null    int64 \n",
      " 13  venomous     100 non-null    int64 \n",
      " 14  fins         100 non-null    int64 \n",
      " 15  legs         100 non-null    int64 \n",
      " 16  tail         100 non-null    int64 \n",
      " 17  domestic     100 non-null    int64 \n",
      " 18  catsize      100 non-null    int64 \n",
      "dtypes: int64(17), object(2)\n",
      "memory usage: 15.0+ KB\n"
     ]
    }
   ],
   "source": [
    "zoo_data.info()"
   ]
  },
  {
   "cell_type": "markdown",
   "metadata": {},
   "source": [
    "The dataset has 100 records, 19 feature columns and 1 target column.\n",
    "\n",
    "17 of the 19 features are integer type, 2 are object type.\n",
    "\n",
    "Target column class_type is Integer tupe"
   ]
  },
  {
   "cell_type": "markdown",
   "metadata": {},
   "source": [
    "We do not need animal_name and species column in training data .\n",
    "\n",
    "Therefore remove unnecessary columns and  seperate independent and target columns"
   ]
  },
  {
   "cell_type": "code",
   "execution_count": 9,
   "metadata": {},
   "outputs": [],
   "source": [
    "\n",
    "\n",
    "X = zoo_data[['hair', 'feathers', 'eggs','milk', 'airborne', 'aquatic', 'predator',\n",
    "             'toothed', 'backbone','breathes', 'venomous', 'fins', 'legs', 'tail', 'domestic', 'catsize']]\n",
    "\n",
    "y = zoo_data['class_type']"
   ]
  },
  {
   "cell_type": "markdown",
   "metadata": {},
   "source": [
    "X contains list of independent features and y contains dependent/target feature"
   ]
  },
  {
   "cell_type": "code",
   "execution_count": 10,
   "metadata": {},
   "outputs": [
    {
     "name": "stdout",
     "output_type": "stream",
     "text": [
      "shape of train data (100, 16)\n",
      "shape of test data (100,)\n"
     ]
    }
   ],
   "source": [
    "print(\"shape of train data\",X.shape)\n",
    "print(\"shape of test data\",y.shape)"
   ]
  },
  {
   "cell_type": "code",
   "execution_count": 11,
   "metadata": {},
   "outputs": [],
   "source": [
    "X_train, X_test, y_train, y_test = train_test_split(X, y, test_size=20,random_state=1)"
   ]
  },
  {
   "cell_type": "markdown",
   "metadata": {},
   "source": [
    "train_test_split, splits dependent and independent features into train and test dataframe. \n",
    "\n",
    "Here we are taking 20 percent data for test purpose, random_state=1 will give same result for each execution "
   ]
  },
  {
   "cell_type": "code",
   "execution_count": 12,
   "metadata": {},
   "outputs": [
    {
     "name": "stdout",
     "output_type": "stream",
     "text": [
      "size of X_train is (80, 16)\n",
      "size of X_test is (20, 16)\n",
      "size of y_train is (80,)\n",
      "size of y_test is (20,)\n"
     ]
    }
   ],
   "source": [
    "#print size of train test data\n",
    "\n",
    "print(\"size of X_train is {}\".format(X_train.shape))\n",
    "print(\"size of X_test is {}\".format(X_test.shape))\n",
    "print(\"size of y_train is {}\".format(y_train.shape))\n",
    "print(\"size of y_test is {}\".format(y_test.shape))"
   ]
  },
  {
   "cell_type": "markdown",
   "metadata": {},
   "source": [
    "Now, dependent and target data set is ready to train and test.\n",
    "\n",
    "First create an object of XGBClassifier.\n",
    "\n",
    "Train model on train data set using fit() method and then predict value on X_test data frame"
   ]
  },
  {
   "cell_type": "code",
   "execution_count": 13,
   "metadata": {},
   "outputs": [
    {
     "name": "stdout",
     "output_type": "stream",
     "text": [
      "[03:08:36] WARNING: C:/Users/Administrator/workspace/xgboost-win64_release_1.3.0/src/learner.cc:1061: Starting in XGBoost 1.3.0, the default evaluation metric used with the objective 'multi:softprob' was changed from 'merror' to 'mlogloss'. Explicitly set eval_metric if you'd like to restore the old behavior.\n",
      "\n",
      "\n",
      " Accuracy Score is 0.95\n"
     ]
    }
   ],
   "source": [
    "#create object of XGBClassifier\n",
    "model = XGBClassifier()  \n",
    "model.fit(X_train,y_train) #fit training data on the model\n",
    "\n",
    "predict_X_test = model.predict(X_test)\n",
    "accuracy = accuracy_score(y_test, predict_X_test)\n",
    "print(\"\\n\\n Accuracy Score is {}\".format(accuracy))"
   ]
  },
  {
   "cell_type": "markdown",
   "metadata": {},
   "source": [
    "Our model gives accuracy of 95 percent."
   ]
  },
  {
   "cell_type": "code",
   "execution_count": null,
   "metadata": {},
   "outputs": [],
   "source": []
  }
 ],
 "metadata": {
  "kernelspec": {
   "display_name": "Python 3",
   "language": "python",
   "name": "python3"
  },
  "language_info": {
   "codemirror_mode": {
    "name": "ipython",
    "version": 3
   },
   "file_extension": ".py",
   "mimetype": "text/x-python",
   "name": "python",
   "nbconvert_exporter": "python",
   "pygments_lexer": "ipython3",
   "version": "3.7.9"
  }
 },
 "nbformat": 4,
 "nbformat_minor": 4
}
